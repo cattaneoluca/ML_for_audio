{
  "nbformat": 4,
  "nbformat_minor": 0,
  "metadata": {
    "colab": {
      "name": "seminar_1.ipynb",
      "provenance": [],
      "authorship_tag": "ABX9TyPoqws+MAAVX0urm2ViC1nh"
    },
    "kernelspec": {
      "name": "python3",
      "display_name": "Python 3"
    },
    "language_info": {
      "name": "python"
    }
  },
  "cells": [
    {
      "cell_type": "code",
      "execution_count": null,
      "metadata": {
        "id": "lFn7WC31LjPV"
      },
      "outputs": [],
      "source": [
        ""
      ]
    }
  ]
}